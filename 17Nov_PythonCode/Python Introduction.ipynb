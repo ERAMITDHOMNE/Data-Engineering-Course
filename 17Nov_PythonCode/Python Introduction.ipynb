{
 "cells": [
  {
   "cell_type": "code",
   "execution_count": null,
   "id": "52995f67",
   "metadata": {},
   "outputs": [],
   "source": [
    "# List Comprehension :\n",
    "#when prommaing ,frequently we want to transform data from one type to another"
   ]
  },
  {
   "cell_type": "code",
   "execution_count": 3,
   "id": "a95f8824",
   "metadata": {},
   "outputs": [
    {
     "name": "stdout",
     "output_type": "stream",
     "text": [
      "[0, 1, 4, 9, 16, 25]\n"
     ]
    }
   ],
   "source": [
    "nums = [0,1,2,3,4,5]\n",
    "square = []\n",
    "for x in nums:\n",
    "    square.append(x**2)\n",
    "print(square)"
   ]
  },
  {
   "cell_type": "code",
   "execution_count": 5,
   "id": "d191cd58",
   "metadata": {},
   "outputs": [
    {
     "name": "stdout",
     "output_type": "stream",
     "text": [
      "[0, 1, 4, 9, 16, 25, 36, 49, 64, 81, 100]\n"
     ]
    }
   ],
   "source": [
    "nums=[0,1,2,3,4,5,6,7,8,9,10] # list\n",
    "square =[x**2 for x in nums] # list comprehension\n",
    "print(square)"
   ]
  },
  {
   "cell_type": "code",
   "execution_count": 6,
   "id": "0932a63f",
   "metadata": {},
   "outputs": [
    {
     "name": "stdout",
     "output_type": "stream",
     "text": [
      "[0, 4, 16, 36, 64, 100]\n"
     ]
    }
   ],
   "source": [
    "nums = [0,1,2,3,4,5,6,7,8,9,10]\n",
    "evensquare = [x**2 for x in nums if x % 2 == 0]\n",
    "print(evensquare)"
   ]
  },
  {
   "cell_type": "code",
   "execution_count": 7,
   "id": "b3872a82",
   "metadata": {},
   "outputs": [
    {
     "name": "stdout",
     "output_type": "stream",
     "text": [
      "[1, 9, 25, 49, 81]\n"
     ]
    }
   ],
   "source": [
    "nums = [0,1,2,3,4,5,6,7,8,9,10]\n",
    "evensquare = [x**2 for x in nums if x % 2 == 1]\n",
    "print(evensquare)"
   ]
  },
  {
   "cell_type": "code",
   "execution_count": null,
   "id": "ae9e9433",
   "metadata": {},
   "outputs": [],
   "source": [
    "#A dictionary stores(key : values) pair,similar to a MAP in java or object in json ,javascript\n",
    "# key will help indentify uniquely\n",
    "\n",
    "#101 : 'Harman' Give error\n",
    "#101:'Amit'  Give error\n",
    "#101 :'Harman' work\n",
    "#102 :'Harman' work correct"
   ]
  },
  {
   "cell_type": "code",
   "execution_count": 11,
   "id": "e2c875e6",
   "metadata": {},
   "outputs": [],
   "source": [
    "d ={101:'Harman',102:'Amit',103:'Hetinder'}"
   ]
  },
  {
   "cell_type": "code",
   "execution_count": 9,
   "id": "3c8510af",
   "metadata": {},
   "outputs": [
    {
     "data": {
      "text/plain": [
       "{101: 'Harman', 102: 'Amit', 103: 'Hetinder'}"
      ]
     },
     "execution_count": 9,
     "metadata": {},
     "output_type": "execute_result"
    }
   ],
   "source": [
    "d"
   ]
  },
  {
   "cell_type": "code",
   "execution_count": 10,
   "id": "76e1e140",
   "metadata": {},
   "outputs": [
    {
     "name": "stdout",
     "output_type": "stream",
     "text": [
      "Harman\n"
     ]
    }
   ],
   "source": [
    "print(d[101])"
   ]
  },
  {
   "cell_type": "code",
   "execution_count": 12,
   "id": "65db7fd0",
   "metadata": {},
   "outputs": [
    {
     "name": "stdout",
     "output_type": "stream",
     "text": [
      "Amit\n"
     ]
    }
   ],
   "source": [
    "print(d[102])"
   ]
  },
  {
   "cell_type": "code",
   "execution_count": 13,
   "id": "22433d8c",
   "metadata": {},
   "outputs": [
    {
     "name": "stdout",
     "output_type": "stream",
     "text": [
      "Hetinder\n"
     ]
    }
   ],
   "source": [
    "print(d[103])"
   ]
  },
  {
   "cell_type": "code",
   "execution_count": 14,
   "id": "9f9c0f37",
   "metadata": {},
   "outputs": [
    {
     "name": "stdout",
     "output_type": "stream",
     "text": [
      "python\n"
     ]
    }
   ],
   "source": [
    "d[104]='python'\n",
    "print(d[104])"
   ]
  },
  {
   "cell_type": "code",
   "execution_count": 20,
   "id": "96582a6a",
   "metadata": {},
   "outputs": [
    {
     "name": "stdout",
     "output_type": "stream",
     "text": [
      "A person has 2 val\n",
      "A cat has 4 val\n",
      "A dog  has 5 val\n"
     ]
    }
   ],
   "source": [
    "D={'person':2 ,'cat':4 ,'dog ':5}\n",
    "for i in D:\n",
    "    val = D[i]\n",
    "    print('A %s has %d val' % (i,val))"
   ]
  },
  {
   "cell_type": "code",
   "execution_count": 21,
   "id": "50ebc960",
   "metadata": {},
   "outputs": [
    {
     "name": "stdout",
     "output_type": "stream",
     "text": [
      "{0: 0, 2: 4, 4: 16, 6: 36, 8: 64}\n"
     ]
    }
   ],
   "source": [
    "nums=[0,1,2,3,4,5,6,7,8,9]\n",
    "even_num ={x:x**2 for x in nums if x%2==0}\n",
    "print(even_num)"
   ]
  },
  {
   "cell_type": "markdown",
   "id": "3813f9ab",
   "metadata": {},
   "source": []
  },
  {
   "cell_type": "code",
   "execution_count": null,
   "id": "84f29b68",
   "metadata": {},
   "outputs": [],
   "source": [
    "# Set :\n",
    "#set is another data structure\n",
    "# It is unordered collection of distinct element"
   ]
  },
  {
   "cell_type": "code",
   "execution_count": 22,
   "id": "caa1a11a",
   "metadata": {},
   "outputs": [
    {
     "name": "stdout",
     "output_type": "stream",
     "text": [
      "True\n"
     ]
    }
   ],
   "source": [
    "animals = {'cat','dog','monkey'}\n",
    "print('cat'in animals)"
   ]
  },
  {
   "cell_type": "code",
   "execution_count": 23,
   "id": "7f16e1c4",
   "metadata": {},
   "outputs": [
    {
     "name": "stdout",
     "output_type": "stream",
     "text": [
      "False\n"
     ]
    }
   ],
   "source": [
    "print('cats'in animals)"
   ]
  },
  {
   "cell_type": "code",
   "execution_count": 24,
   "id": "74f8f887",
   "metadata": {},
   "outputs": [],
   "source": [
    "animals.add('cow')"
   ]
  },
  {
   "cell_type": "code",
   "execution_count": 25,
   "id": "d9538b10",
   "metadata": {},
   "outputs": [
    {
     "data": {
      "text/plain": [
       "{'cat', 'cow', 'dog', 'monkey'}"
      ]
     },
     "execution_count": 25,
     "metadata": {},
     "output_type": "execute_result"
    }
   ],
   "source": [
    "animals # set arrange element in alphabetical order irrespective of order of element you added"
   ]
  },
  {
   "cell_type": "code",
   "execution_count": 27,
   "id": "e9e80349",
   "metadata": {},
   "outputs": [],
   "source": [
    "animals.add('cow') # In set add is used to add element"
   ]
  },
  {
   "cell_type": "code",
   "execution_count": 28,
   "id": "2a197132",
   "metadata": {},
   "outputs": [
    {
     "data": {
      "text/plain": [
       "{'cat', 'cow', 'dog', 'monkey'}"
      ]
     },
     "execution_count": 28,
     "metadata": {},
     "output_type": "execute_result"
    }
   ],
   "source": [
    "animals # set dont allow duplicate element"
   ]
  },
  {
   "cell_type": "code",
   "execution_count": 29,
   "id": "c657dd36",
   "metadata": {},
   "outputs": [
    {
     "name": "stdout",
     "output_type": "stream",
     "text": [
      "4\n"
     ]
    }
   ],
   "source": [
    "print(len(animals))"
   ]
  },
  {
   "cell_type": "code",
   "execution_count": 30,
   "id": "85c6f89b",
   "metadata": {},
   "outputs": [],
   "source": [
    "animals.remove('cow')"
   ]
  },
  {
   "cell_type": "code",
   "execution_count": 31,
   "id": "80ed725d",
   "metadata": {},
   "outputs": [
    {
     "data": {
      "text/plain": [
       "{'cat', 'dog', 'monkey'}"
      ]
     },
     "execution_count": 31,
     "metadata": {},
     "output_type": "execute_result"
    }
   ],
   "source": [
    "animals"
   ]
  },
  {
   "cell_type": "code",
   "execution_count": 35,
   "id": "4e96eb5b",
   "metadata": {},
   "outputs": [
    {
     "name": "stdout",
     "output_type": "stream",
     "text": [
      "1 : cow\n",
      "2 : dog\n",
      "3 : monkey\n",
      "4 : cat\n"
     ]
    }
   ],
   "source": [
    "animals = {'cat','dog','cow','monkey'}\n",
    "for id,animal in enumerate(animals):\n",
    "     print('%d : %s'%(id+1,animal))"
   ]
  },
  {
   "cell_type": "code",
   "execution_count": 40,
   "id": "0badb818",
   "metadata": {},
   "outputs": [
    {
     "name": "stdout",
     "output_type": "stream",
     "text": [
      "{0, 1, 2, 3, 4, 5}\n"
     ]
    }
   ],
   "source": [
    "# set comprehension : we will transform data of set\n",
    "from math import sqrt\n",
    "print({int(sqrt(x)) for x in range(30)}) # n-1"
   ]
  },
  {
   "cell_type": "code",
   "execution_count": null,
   "id": "f9398a9a",
   "metadata": {},
   "outputs": [],
   "source": []
  }
 ],
 "metadata": {
  "kernelspec": {
   "display_name": "Python 3",
   "language": "python",
   "name": "python3"
  },
  "language_info": {
   "codemirror_mode": {
    "name": "ipython",
    "version": 3
   },
   "file_extension": ".py",
   "mimetype": "text/x-python",
   "name": "python",
   "nbconvert_exporter": "python",
   "pygments_lexer": "ipython3",
   "version": "3.8.8"
  }
 },
 "nbformat": 4,
 "nbformat_minor": 5
}
